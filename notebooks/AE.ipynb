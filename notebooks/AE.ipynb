{
 "cells": [
  {
   "cell_type": "code",
   "execution_count": 1,
   "metadata": {},
   "outputs": [],
   "source": [
    "from pathlib import Path\n",
    "import matplotlib.pyplot as plt\n",
    "import numpy as np\n",
    "import pandas as pd\n",
    "import torch\n",
    "from sklearn.preprocessing import StandardScaler\n",
    "from sklearn.cluster import KMeans\n",
    "from sklearn import decomposition\n",
    "from sklearn.manifold import TSNE\n",
    "from mpl_toolkits.mplot3d import Axes3D\n",
    "from sklearn.model_selection import KFold\n",
    "import pingouin as pg"
   ]
  },
  {
   "cell_type": "code",
   "execution_count": 3,
   "metadata": {},
   "outputs": [],
   "source": [
    "data = pd.read_csv('~/Desktop/columbia/capstone/fire-regimes/data/merged_output.csv').drop(columns=['id1','id2','time','x','y'])\n",
    "\n",
    "df_dedup = data.groupby(['source_file','level'], as_index=False).mean()\n",
    "df_pivoted = df_dedup.set_index(['source_file', 'level']).unstack('level')\n",
    "df_pivoted.columns = [f'{level}-{var}' for var, level in df_pivoted.columns]\n",
    "\n",
    "X = df_pivoted[~np.isnan(df_pivoted).any(axis=1)]\n",
    "\n",
    "scaler = StandardScaler()\n",
    "scaler.fit(X)\n",
    "X = scaler.transform(X)"
   ]
  },
  {
   "cell_type": "markdown",
   "metadata": {},
   "source": [
    "### Load in data for torch"
   ]
  },
  {
   "cell_type": "markdown",
   "metadata": {},
   "source": [
    "### An AutoEncoder Class with dynamic latent dimension"
   ]
  },
  {
   "cell_type": "code",
   "execution_count": 17,
   "metadata": {},
   "outputs": [],
   "source": [
    "class AutoEncoder(torch.nn.Module):\n",
    "    def __init__(self, latent_dim):\n",
    "        super(AutoEncoder, self).__init__()\n",
    "\n",
    "        self.encoder = torch.nn.Sequential(\n",
    "            torch.nn.Linear(174, 128),\n",
    "            torch.nn.ReLU(),\n",
    "            torch.nn.Linear(128, 64),\n",
    "            torch.nn.ReLU(),\n",
    "            torch.nn.Linear(64, latent_dim)  # Use latent_dim here\n",
    "        )\n",
    "         \n",
    "        self.decoder = torch.nn.Sequential(\n",
    "            torch.nn.Linear(latent_dim, 64),  # Start with latent_dim here\n",
    "            torch.nn.ReLU(),\n",
    "            torch.nn.Linear(64, 128),\n",
    "            torch.nn.ReLU(),\n",
    "            torch.nn.Linear(128, 174)\n",
    "        )\n",
    "\n",
    "    def forward(self, x):\n",
    "        encoded = self.encoder(x)\n",
    "        decoded = self.decoder(encoded)\n",
    "        return decoded"
   ]
  },
  {
   "cell_type": "code",
   "execution_count": 21,
   "metadata": {},
   "outputs": [],
   "source": [
    "def train_model(model,train_loader,n_epochs,optimizer,loss_function):\n",
    "\n",
    "  losses = []\n",
    "\n",
    "  for _ in range(n_epochs):\n",
    "    for profile in train_loader:\n",
    "        \n",
    "      # Output of Autoencoder\n",
    "      reconstructed = model(profile)\n",
    "        \n",
    "      # Calculating the loss function\n",
    "      loss = loss_function(reconstructed, profile)\n",
    "      optimizer.zero_grad()\n",
    "      loss.backward()\n",
    "      optimizer.step()\n",
    "        \n",
    "      losses.append(loss.item())\n",
    "  \n",
    "  return (model,losses)"
   ]
  },
  {
   "cell_type": "code",
   "execution_count": 31,
   "metadata": {},
   "outputs": [],
   "source": [
    "def rolling_average(data, window_size):\n",
    "    return np.convolve(data, np.ones(window_size) / window_size, mode='valid')\n",
    "\n",
    "def plot_loss(losses,window_size):\n",
    "    loss_floats = [loss for loss in losses]\n",
    "    smoothed_losses = rolling_average(loss_floats, window_size)\n",
    "    plt.plot(smoothed_losses)\n",
    "    plt.show()"
   ]
  },
  {
   "cell_type": "code",
   "execution_count": 25,
   "metadata": {},
   "outputs": [
    {
     "name": "stdout",
     "output_type": "stream",
     "text": [
      "Latent Dim: 4, Avg Validation Loss: 0.35960532584777016\n",
      "Latent Dim: 6, Avg Validation Loss: 0.27098767601353135\n",
      "Latent Dim: 8, Avg Validation Loss: 0.23185654756398605\n",
      "Latent Dim: 12, Avg Validation Loss: 0.2170932384977581\n",
      "Latent Dim: 16, Avg Validation Loss: 0.19318075669394685\n",
      "Latent Dim: 24, Avg Validation Loss: 0.1696244248973458\n",
      "Latent Dim: 32, Avg Validation Loss: 0.1978144393311314\n",
      "Latent Dim: 48, Avg Validation Loss: 0.1978299817264268\n"
     ]
    }
   ],
   "source": [
    "latent_dims = [4,6,8,12,16,24,32,48]\n",
    "results = []\n",
    "\n",
    "for i,latent_dim in enumerate(latent_dims):\n",
    "    fold_losses = []\n",
    "    kf = KFold(n_splits=5, shuffle=True, random_state=1)\n",
    "    \n",
    "    for train_idx, val_idx in kf.split(train_data):\n",
    "        # Split data\n",
    "        train_subset = torch.utils.data.Subset(train_data, train_idx)\n",
    "        val_subset = torch.utils.data.Subset(train_data, val_idx)\n",
    "        train_loader = torch.utils.data.DataLoader(train_subset, batch_size=32, shuffle=True)\n",
    "        val_loader = torch.utils.data.DataLoader(val_subset, batch_size=32, shuffle=False)\n",
    "\n",
    "        # Initialize model, optimizer, and loss function for this fold\n",
    "        model = AutoEncoder(latent_dim=latent_dim)\n",
    "        optimizer = torch.optim.Adam(model.parameters(), lr=0.01, weight_decay=1e-8)\n",
    "        loss_function = torch.nn.MSELoss()\n",
    "\n",
    "        # Train model and get average training loss for the fold\n",
    "        avg_train_loss = train_model(model, train_loader=train_loader, n_epochs=2, optimizer=optimizer, loss_function=loss_function)\n",
    "\n",
    "        model.eval()\n",
    "        val_losses = []\n",
    "        with torch.no_grad():\n",
    "            for profile in val_loader:\n",
    "                reconstructed = model(profile)\n",
    "                val_loss = loss_function(reconstructed, profile)\n",
    "                val_losses.append(val_loss.item())\n",
    "\n",
    "        avg_val_loss = np.mean(val_losses)\n",
    "        fold_losses.append(avg_val_loss)\n",
    "\n",
    "    # Record average validation loss for this latent dimension\n",
    "    results.append(np.mean(fold_losses))\n",
    "    print(f\"Latent Dim: {latent_dim}, Avg Validation Loss: {results[i]}\")"
   ]
  },
  {
   "cell_type": "code",
   "execution_count": 28,
   "metadata": {},
   "outputs": [],
   "source": [
    "train_data = torch.from_numpy(X).float()\n",
    "train_loader = torch.utils.data.DataLoader(dataset = train_data, batch_size=64, shuffle=True)"
   ]
  },
  {
   "cell_type": "code",
   "execution_count": 33,
   "metadata": {},
   "outputs": [],
   "source": [
    "model = AutoEncoder(latent_dim=16)\n",
    " \n",
    "# Validation using MSE Loss function\n",
    "loss_function = torch.nn.MSELoss()\n",
    " \n",
    "optimizer = torch.optim.Adam(model.parameters(),\n",
    "                             lr = 0.01,\n",
    "                             weight_decay = 1e-8)"
   ]
  },
  {
   "cell_type": "code",
   "execution_count": 34,
   "metadata": {},
   "outputs": [
    {
     "data": {
      "image/png": "[encoded data removed]",
      "text/plain": [
       "<Figure size 640x480 with 1 Axes>"
      ]
     },
     "metadata": {},
     "output_type": "display_data"
    }
   ],
   "source": [
    "model,losses = train_model(model,n_epochs=3,train_loader=train_loader,loss_function=loss_function,optimizer=optimizer)\n",
    "plot_loss(losses=losses,window_size=20)"
   ]
  },
  {
   "cell_type": "code",
   "execution_count": 35,
   "metadata": {},
   "outputs": [],
   "source": [
    "r = model(train_data).detach().numpy()\n",
    "train = train_data.numpy()\n",
    "l = model.encoder(train_data).detach().numpy()"
   ]
  },
  {
   "cell_type": "code",
   "execution_count": null,
   "metadata": {},
   "outputs": [],
   "source": [
    "#np.save('../data/latent-16.npy',l)"
   ]
  },
  {
   "cell_type": "code",
   "execution_count": 38,
   "metadata": {},
   "outputs": [],
   "source": [
    "full_pca = decomposition.PCA(n_components=16)\n",
    "full_pca.fit(l)\n",
    "\n",
    "explained_variance = full_pca.explained_variance_ratio_"
   ]
  },
  {
   "cell_type": "code",
   "execution_count": null,
   "metadata": {},
   "outputs": [],
   "source": [
    "plt.plot(explained_variance)"
   ]
  },
  {
   "cell_type": "code",
   "execution_count": 2,
   "metadata": {},
   "outputs": [
    {
     "name": "stdout",
     "output_type": "stream",
     "text": [
      "HZResults(hz=5.413242806401451, pval=0.0, normal=False)\n"
     ]
    }
   ],
   "source": [
    "l = np.load(\"../data/latent-16.npy\")\n",
    "mardia_test = pg.multivariate_normality(l, alpha=0.05)\n",
    "print(mardia_test)"
   ]
  },
  {
   "cell_type": "code",
   "execution_count": 14,
   "metadata": {},
   "outputs": [
    {
     "data": {
      "text/plain": [
       "<matplotlib.collections.PathCollection at 0x16d10ad10>"
      ]
     },
     "execution_count": 14,
     "metadata": {},
     "output_type": "execute_result"
    },
    {
     "data": {
      "image/png": "[encoded data removed]",
      "text/plain": [
       "<Figure size 640x480 with 1 Axes>"
      ]
     },
     "metadata": {},
     "output_type": "display_data"
    }
   ],
   "source": [
    "plt.scatter(l[:,2],l[:,12])"
   ]
  },
  {
   "cell_type": "code",
   "execution_count": null,
   "metadata": {},
   "outputs": [],
   "source": [
    "import seaborn as sns\n",
    "sns.pairplot(pd.DataFrame(l))"
   ]
  }
 ],
 "metadata": {
  "kernelspec": {
   "display_name": "base",
   "language": "python",
   "name": "python3"
  },
  "language_info": {
   "codemirror_mode": {
    "name": "ipython",
    "version": 3
   },
   "file_extension": ".py",
   "mimetype": "text/x-python",
   "name": "python",
   "nbconvert_exporter": "python",
   "pygments_lexer": "ipython3",
   "version": "3.11.5"
  }
 },
 "nbformat": 4,
 "nbformat_minor": 2
}
