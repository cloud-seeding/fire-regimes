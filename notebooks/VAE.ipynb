{
 "cells": [
  {
   "cell_type": "code",
   "execution_count": 8,
   "metadata": {},
   "outputs": [],
   "source": [
    "import torch\n",
    "import skdim\n",
    "import numpy as np\n",
    "import pyroved as pv\n",
    "import pandas as pd\n",
    "import matplotlib.pyplot as plt\n",
    "from sklearn import decomposition\n",
    "from sklearn.manifold import TSNE\n",
    "from sklearn.preprocessing import normalize"
   ]
  },
  {
   "cell_type": "code",
   "execution_count": 2,
   "metadata": {},
   "outputs": [
    {
     "name": "stdout",
     "output_type": "stream",
     "text": [
      "5.001747091371089\n"
     ]
    }
   ],
   "source": [
    "#generate data : np.array (n_points x n_dim). Here a uniformly sampled 5-ball embedded in 10 dimensions\n",
    "data = np.zeros((1000,10))\n",
    "data[:,:5] = skdim.datasets.hyperBall(n = 1000, d = 5, radius = 1, random_state = 0)\n",
    "\n",
    "#estimate global intrinsic dimension\n",
    "danco = skdim.id.DANCo().fit(data)\n",
    "#estimate local intrinsic dimension (dimension in k-nearest-neighborhoods around each point):\n",
    "\n",
    "#get estimated intrinsic dimension\n",
    "print(danco.dimension_)"
   ]
  },
  {
   "cell_type": "markdown",
   "metadata": {},
   "source": [
    "### Load in data"
   ]
  },
  {
   "cell_type": "code",
   "execution_count": 10,
   "metadata": {},
   "outputs": [],
   "source": [
    "data = pd.read_csv('~/Desktop/columbia/capstone/fire-regimes/data/merged_data.csv')\n",
    "\n",
    "df_dedup = data.groupby(['time', 'x', 'y', 'level'], as_index=False).mean()\n",
    "df_pivoted = df_dedup.set_index(['time', 'y', 'x', 'level']).unstack('level')\n",
    "\n",
    "df_pivoted.columns = [f'{level}-{var}' for var, level in df_pivoted.columns]\n",
    "df = df_pivoted.reset_index().drop(columns=['time','y','x'])\n",
    "\n",
    "X = df[~np.isnan(df).any(axis=1)]\n",
    "X = normalize(X,axis=0)"
   ]
  },
  {
   "cell_type": "code",
   "execution_count": 11,
   "metadata": {},
   "outputs": [],
   "source": [
    "train_data = torch.from_numpy(X).float()\n",
    "train_loader = pv.utils.init_dataloader(train_data, batch_size=64)"
   ]
  },
  {
   "cell_type": "code",
   "execution_count": 12,
   "metadata": {},
   "outputs": [],
   "source": [
    "in_dim = (174,)\n",
    "vae = pv.models.iVAE(in_dim, latent_dim=4, invariances=None, seed=0)\n",
    "trainer = pv.trainers.SVItrainer(vae)"
   ]
  },
  {
   "cell_type": "code",
   "execution_count": null,
   "metadata": {},
   "outputs": [],
   "source": [
    "for e in range(4):\n",
    "    trainer.step(train_loader)\n",
    "    trainer.print_statistics()"
   ]
  },
  {
   "cell_type": "code",
   "execution_count": null,
   "metadata": {},
   "outputs": [],
   "source": [
    "mean, log_var = vae.encode(train_data)\n",
    "fig, (ax1, ax2) = plt.subplots(1, 2, figsize=(15, 6))\n",
    "im1 = ax1.scatter(mean[:, -1], log_var[:, -2], s=1)"
   ]
  }
 ],
 "metadata": {
  "kernelspec": {
   "display_name": "base",
   "language": "python",
   "name": "python3"
  },
  "language_info": {
   "codemirror_mode": {
    "name": "ipython",
    "version": 3
   },
   "file_extension": ".py",
   "mimetype": "text/x-python",
   "name": "python",
   "nbconvert_exporter": "python",
   "pygments_lexer": "ipython3",
   "version": "3.11.5"
  }
 },
 "nbformat": 4,
 "nbformat_minor": 2
}
