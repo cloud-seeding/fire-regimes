{
 "cells": [
  {
   "cell_type": "code",
   "execution_count": 1,
   "metadata": {},
   "outputs": [],
   "source": [
    "import numpy as np\n",
    "import pandas as pd\n",
    "import matplotlib.pyplot as plt\n",
    "import seaborn as sns"
   ]
  },
  {
   "cell_type": "code",
   "execution_count": 2,
   "metadata": {},
   "outputs": [
    {
     "name": "stdout",
     "output_type": "stream",
     "text": [
      "<class 'pandas.core.frame.DataFrame'>\n",
      "RangeIndex: 28138584 entries, 0 to 28138583\n",
      "Data columns (total 13 columns):\n",
      " #   Column       Dtype  \n",
      "---  ------       -----  \n",
      " 0   time         float64\n",
      " 1   level        float64\n",
      " 2   y            float64\n",
      " 3   x            float64\n",
      " 4   air          float64\n",
      " 5   shum         float64\n",
      " 6   omega        float64\n",
      " 7   hgt          float64\n",
      " 8   uwnd         float64\n",
      " 9   vwnd         float64\n",
      " 10  source_file  object \n",
      " 11  id1          float64\n",
      " 12  id2          float64\n",
      "dtypes: float64(12), object(1)\n",
      "memory usage: 2.7+ GB\n"
     ]
    }
   ],
   "source": [
    "df = pd.read_csv('../data/merged_output.csv')\n",
    "df.info()"
   ]
  },
  {
   "cell_type": "code",
   "execution_count": 3,
   "metadata": {},
   "outputs": [],
   "source": [
    "sample = df.head(10_000)\n",
    "sample.to_csv('../data/sample_output.csv', index=False)"
   ]
  },
  {
   "cell_type": "code",
   "execution_count": 4,
   "metadata": {},
   "outputs": [],
   "source": [
    "random_sample = df.sample(10_000)\n",
    "random_sample.to_csv('../data/random_sample_output.csv', index=False)"
   ]
  },
  {
   "cell_type": "code",
   "execution_count": null,
   "metadata": {},
   "outputs": [],
   "source": []
  }
 ],
 "metadata": {
  "kernelspec": {
   "display_name": "Python 3",
   "language": "python",
   "name": "python3"
  },
  "language_info": {
   "codemirror_mode": {
    "name": "ipython",
    "version": 3
   },
   "file_extension": ".py",
   "mimetype": "text/x-python",
   "name": "python",
   "nbconvert_exporter": "python",
   "pygments_lexer": "ipython3",
   "version": "3.12.4"
  }
 },
 "nbformat": 4,
 "nbformat_minor": 2
}
