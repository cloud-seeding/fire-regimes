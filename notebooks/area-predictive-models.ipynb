{
 "cells": [
  {
   "cell_type": "code",
   "execution_count": 2,
   "metadata": {},
   "outputs": [],
   "source": [
    "import matplotlib.pyplot as plt\n",
    "import numpy as np\n",
    "import pandas as pd\n",
    "import torch\n",
    "from sklearn.preprocessing import StandardScaler, normalize\n",
    "from sklearn.cluster import KMeans\n",
    "from sklearn import decomposition\n",
    "from sklearn.manifold import TSNE\n",
    "from sklearn.model_selection import KFold\n",
    "import seaborn as sns"
   ]
  },
  {
   "cell_type": "code",
   "execution_count": 3,
   "metadata": {},
   "outputs": [],
   "source": [
    "profiles_areas = pd.read_csv('~/Desktop/columbia/capstone/fire-regimes/data/profiles-areas.csv')\n",
    "area = np.log(profiles_areas['area_ha'])\n",
    "X = profiles_areas.drop(columns=['_uid_','initialdat','finaldate','area_ha'])\n",
    "scaler = StandardScaler()\n",
    "scaled_data = scaler.fit_transform(X)\n",
    "\n",
    "X_scaled = X[~(np.abs(scaled_data) > 10).any(axis=1)]\n",
    "X_scaled = scaler.fit_transform(X)"
   ]
  },
  {
   "cell_type": "markdown",
   "metadata": {},
   "source": [
    "Logistic Regression"
   ]
  },
  {
   "cell_type": "code",
   "execution_count": null,
   "metadata": {},
   "outputs": [],
   "source": [
    "from sklearn.linear_model import LogisticRegression\n",
    "from sklearn.metrics import accuracy_score, precision_score, recall_score, f1_score, confusion_matrix\n",
    "from sklearn.model_selection import train_test_split\n",
    "\n",
    "# Binarize the target variable 'area' for logistic regression\n",
    "area_binary = (area > area.quantile(0.75)).astype(int)\n",
    "\n",
    "# Split the data into training and testing sets\n",
    "X_train, X_test, y_train, y_test = train_test_split(X_scaled, area_binary, test_size=0.2, random_state=1)\n",
    "\n",
    "# Fit the logistic regression model\n",
    "log_reg = LogisticRegression(max_iter=1000)\n",
    "log_reg.fit(X_train, y_train)\n",
    "\n",
    "# Predict on the test set\n",
    "y_pred = log_reg.predict(X_test)\n",
    "\n",
    "# Calculate performance metrics\n",
    "accuracy = accuracy_score(y_test, y_pred)\n",
    "precision = precision_score(y_test, y_pred)\n",
    "recall = recall_score(y_test, y_pred)\n",
    "f1 = f1_score(y_test, y_pred)\n",
    "conf_matrix = confusion_matrix(y_test, y_pred)\n",
    "\n",
    "# Print the performance metrics\n",
    "print(f'Accuracy: {accuracy:.4f}')\n",
    "print(f'Precision: {precision:.4f}')\n",
    "print(f'Recall: {recall:.4f}')\n",
    "print(f'F1 Score: {f1:.4f}')\n",
    "print('Confusion Matrix:')\n",
    "print(conf_matrix)"
   ]
  },
  {
   "cell_type": "markdown",
   "metadata": {},
   "source": [
    "Simple Linear Regression"
   ]
  },
  {
   "cell_type": "code",
   "execution_count": null,
   "metadata": {},
   "outputs": [],
   "source": [
    "from sklearn.linear_model import LinearRegression\n",
    "from sklearn.metrics import mean_squared_error, r2_score\n",
    "from sklearn.feature_selection import f_regression\n",
    "\n",
    "# Fit the linear regression model\n",
    "lin_reg = LinearRegression()\n",
    "lin_reg.fit(X_train, y_train)\n",
    "\n",
    "# Predict on the test set\n",
    "y_pred_reg = lin_reg.predict(X_test)\n",
    "\n",
    "# Calculate performance metrics\n",
    "mse = mean_squared_error(y_test, y_pred_reg)\n",
    "r2 = r2_score(y_test, y_pred_reg)\n",
    "\n",
    "# Print the performance metrics\n",
    "print(f'Mean Squared Error: {mse:.4f}')\n",
    "print(f'R^2 Score: {r2:.4f}')\n",
    "\n",
    "# Calculate the overall F-statistic and its p-value\n",
    "f_stat_overall, p_value_overall = f_regression(X_test, y_test).mean()\n",
    "\n",
    "print(f'Overall F-statistic: {f_stat_overall}')\n",
    "print(f'Overall P-value: {p_value_overall}')\n"
   ]
  },
  {
   "cell_type": "markdown",
   "metadata": {},
   "source": [
    "PCA Reduced Feature Space Regression"
   ]
  },
  {
   "cell_type": "code",
   "execution_count": null,
   "metadata": {},
   "outputs": [],
   "source": [
    "pca = decomposition.PCA(n_components=15)\n",
    "X_pca = pca.fit_transform(X_scaled)\n",
    "\n",
    "log_reg_pca = LogisticRegression(max_iter=1000)\n",
    "log_reg_pca.fit(X_train_pca, y_train_pca)\n",
    "\n",
    "y_pred_pca = log_reg_pca.predict(X_test_pca)\n",
    "\n",
    "accuracy_pca = accuracy_score(y_test_pca, y_pred_pca)\n",
    "precision_pca = precision_score(y_test_pca, y_pred_pca)\n",
    "recall_pca = recall_score(y_test_pca, y_pred_pca)\n",
    "f1_pca = f1_score(y_test_pca, y_pred_pca)\n",
    "conf_matrix_pca = confusion_matrix(y_test_pca, y_pred_pca)\n",
    "\n",
    "print(f'Accuracy (PCA): {accuracy_pca:.4f}')\n",
    "print(f'Precision (PCA): {precision_pca:.4f}')\n",
    "print(f'Recall (PCA): {recall_pca:.4f}')\n",
    "print(f'F1 Score (PCA): {f1_pca:.4f}')\n",
    "print('Confusion Matrix (PCA):')\n",
    "print(conf_matrix_pca)"
   ]
  },
  {
   "cell_type": "code",
   "execution_count": null,
   "metadata": {},
   "outputs": [],
   "source": [
    "# Get the coefficients from the linear regression model\n",
    "coefficients = lin_reg.coef_\n",
    "\n",
    "# Create a dataframe to hold the coefficients and their corresponding feature names\n",
    "coeff_df = pd.DataFrame({'Feature': X.columns, 'Coefficient': coefficients})\n",
    "\n",
    "# Sort the dataframe by the absolute value of the coefficients\n",
    "coeff_df['abs_coefficient'] = coeff_df['Coefficient'].abs()\n",
    "coeff_df = coeff_df.sort_values(by='abs_coefficient', ascending=False).head(20)\n",
    "\n",
    "# Plot the coefficients\n",
    "plt.figure(figsize=(10, 8))\n",
    "sns.barplot(x='Coefficient', y='Feature', data=coeff_df)\n",
    "plt.title('Coefficients from Linear Regression')\n",
    "plt.show()"
   ]
  }
 ],
 "metadata": {
  "kernelspec": {
   "display_name": "base",
   "language": "python",
   "name": "python3"
  },
  "language_info": {
   "codemirror_mode": {
    "name": "ipython",
    "version": 3
   },
   "file_extension": ".py",
   "mimetype": "text/x-python",
   "name": "python",
   "nbconvert_exporter": "python",
   "pygments_lexer": "ipython3",
   "version": "3.11.5"
  }
 },
 "nbformat": 4,
 "nbformat_minor": 2
}
